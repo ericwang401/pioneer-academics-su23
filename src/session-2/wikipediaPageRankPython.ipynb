{
 "cells": [
  {
   "cell_type": "markdown",
   "metadata": {},
   "source": [
    "# Wikipedia web network\n",
    "This notebook creates an adjacency matrix from a root Wikipedia page. It then find the PageRank of the produced web network. \n",
    "\n",
    "Created by Tim Chartier"
   ]
  },
  {
   "cell_type": "markdown",
   "metadata": {},
   "source": [
    "### Create the network"
   ]
  },
  {
   "cell_type": "code",
   "execution_count": 1,
   "metadata": {},
   "outputs": [
    {
     "name": "stdout",
     "output_type": "stream",
     "text": [
      "Requirement already satisfied: numpy in /usr/local/lib/python3.7/site-packages (1.21.6)\n",
      "Requirement already satisfied: matplotlib in /usr/local/lib/python3.7/site-packages (3.5.3)\n",
      "Requirement already satisfied: beautifulsoup4 in /usr/local/lib/python3.7/site-packages (4.12.2)\n",
      "Requirement already satisfied: lxml in /usr/local/lib/python3.7/site-packages (4.9.3)\n",
      "Requirement already satisfied: bs4 in /usr/local/lib/python3.7/site-packages (0.0.1)\n",
      "Requirement already satisfied: html5lib in /usr/local/lib/python3.7/site-packages (1.1)\n",
      "Requirement already satisfied: kiwisolver>=1.0.1 in /usr/local/lib/python3.7/site-packages (from matplotlib) (1.4.4)\n",
      "Requirement already satisfied: pyparsing>=2.2.1 in /usr/local/lib/python3.7/site-packages (from matplotlib) (3.1.0)\n",
      "Requirement already satisfied: pillow>=6.2.0 in /usr/local/lib/python3.7/site-packages (from matplotlib) (9.5.0)\n",
      "Requirement already satisfied: python-dateutil>=2.7 in /root/.local/lib/python3.7/site-packages (from matplotlib) (2.8.2)\n",
      "Requirement already satisfied: packaging>=20.0 in /root/.local/lib/python3.7/site-packages (from matplotlib) (23.1)\n",
      "Requirement already satisfied: cycler>=0.10 in /usr/local/lib/python3.7/site-packages (from matplotlib) (0.11.0)\n",
      "Requirement already satisfied: fonttools>=4.22.0 in /usr/local/lib/python3.7/site-packages (from matplotlib) (4.38.0)\n",
      "Requirement already satisfied: soupsieve>1.2 in /usr/local/lib/python3.7/site-packages (from beautifulsoup4) (2.4.1)\n",
      "Requirement already satisfied: six>=1.9 in /root/.local/lib/python3.7/site-packages (from html5lib) (1.16.0)\n",
      "Requirement already satisfied: webencodings in /usr/local/lib/python3.7/site-packages (from html5lib) (0.5.1)\n",
      "Requirement already satisfied: typing-extensions in /usr/local/lib/python3.7/site-packages (from kiwisolver>=1.0.1->matplotlib) (4.7.1)\n",
      "\u001b[33mWARNING: Running pip as the 'root' user can result in broken permissions and conflicting behaviour with the system package manager. It is recommended to use a virtual environment instead: https://pip.pypa.io/warnings/venv\u001b[0m\u001b[33m\n",
      "\u001b[0m\n",
      "\u001b[1m[\u001b[0m\u001b[34;49mnotice\u001b[0m\u001b[1;39;49m]\u001b[0m\u001b[39;49m A new release of pip is available: \u001b[0m\u001b[31;49m23.0.1\u001b[0m\u001b[39;49m -> \u001b[0m\u001b[32;49m23.1.2\u001b[0m\n",
      "\u001b[1m[\u001b[0m\u001b[34;49mnotice\u001b[0m\u001b[1;39;49m]\u001b[0m\u001b[39;49m To update, run: \u001b[0m\u001b[32;49mpip install --upgrade pip\u001b[0m\n"
     ]
    }
   ],
   "source": [
    "import sys\n",
    "!{sys.executable} -m pip install numpy matplotlib beautifulsoup4 lxml bs4 html5lib"
   ]
  },
  {
   "cell_type": "code",
   "execution_count": 2,
   "metadata": {},
   "outputs": [],
   "source": [
    "import wikipediaNetwork as wiki\n",
    "\n",
    "sizeOfNetwork = 1000 # How many Wikipedia web pages do you want in the network? \n",
    "A, wikiPages = wiki.wikipediaNetwork('https://en.wikipedia.org/wiki/List_of_common_misconceptions',sizeOfNetwork)"
   ]
  },
  {
   "cell_type": "markdown",
   "metadata": {},
   "source": [
    "### Plot the network"
   ]
  },
  {
   "cell_type": "code",
   "execution_count": 8,
   "metadata": {},
   "outputs": [
    {
     "name": "stdout",
     "output_type": "stream",
     "text": [
      "[[1. 0. 0. ... 0. 0. 0.]\n",
      " [0. 1. 0. ... 0. 0. 0.]\n",
      " [0. 0. 0. ... 0. 0. 0.]\n",
      " ...\n",
      " [0. 0. 0. ... 1. 0. 0.]\n",
      " [0. 0. 0. ... 0. 1. 0.]\n",
      " [0. 0. 0. ... 0. 0. 1.]]\n"
     ]
    },
    {
     "data": {
      "image/png": "[encoded data removed]",
      "text/plain": [
       "<Figure size 640x480 with 1 Axes>"
      ]
     },
     "metadata": {},
     "output_type": "display_data"
    }
   ],
   "source": [
    "import matplotlib.pylab as plt\n",
    "message = plt.spy(A)\n",
    "print(A)"
   ]
  },
  {
   "cell_type": "markdown",
   "metadata": {},
   "source": [
    "### Compute PageRank on network"
   ]
  },
  {
   "cell_type": "code",
   "execution_count": 4,
   "metadata": {},
   "outputs": [],
   "source": [
    "# This function finds the PageRank of a networ passed as an adjacency matrix. \n",
    "# Created by Tim Chartier. \n",
    "\n",
    "def pagerank(A,TOL = 10^-3):\n",
    "\n",
    "    import numpy as np\n",
    "    \n",
    "    # Remove loops (links to one's own webpage)\n",
    "    A = A - np.diag(np.diag(A))\n",
    "    \n",
    "    # Construct Google matrix \n",
    "    alpha = 0.85\n",
    "    rowSum = np.sum(A,1) # Compute the row sums\n",
    "    sizeOfNetwork = len(A)\n",
    "    G = np.zeros((sizeOfNetwork,sizeOfNetwork))\n",
    "    for i in range(sizeOfNetwork):\n",
    "        if (rowSum[i] == 0): # dangling node\n",
    "            G[i,:] = np.ones((1,sizeOfNetwork))/sizeOfNetwork\n",
    "        else:\n",
    "            G[i,:] = alpha*A[i,:]/rowSum[i] + (1-alpha)/sizeOfNetwork\n",
    "\n",
    "    # Compute PageRank vector\n",
    "    numberOfLoops = 100\n",
    "    v0 = np.ones(sizeOfNetwork)/sizeOfNetwork  # initial state\n",
    "    vNew = v0\n",
    "    for i in range(numberOfLoops):\n",
    "        vOld = vNew\n",
    "        vNew = vOld@G     \n",
    "        if (np.amax(vNew - vOld) < TOL):\n",
    "            break\n",
    "\n",
    "    return vNew"
   ]
  },
  {
   "cell_type": "code",
   "execution_count": 5,
   "metadata": {},
   "outputs": [],
   "source": [
    "import numpy as np\n",
    "pageRankVector = pagerank(A)"
   ]
  },
  {
   "cell_type": "markdown",
   "metadata": {},
   "source": [
    "### Print the results"
   ]
  },
  {
   "cell_type": "code",
   "execution_count": 9,
   "metadata": {},
   "outputs": [
    {
     "name": "stdout",
     "output_type": "stream",
     "text": [
      "Rank  PageRank   Webpage\n",
      "==============================================\n",
      "  0   0.13505    /wiki/Main_Page\n",
      "  1   0.06250    /wiki/S2CID_(identifier)\n",
      "  2   0.04288    /wiki/PMID_(identifier)\n",
      "  3   0.03556    /wiki/Wayback_Machine\n",
      "  4   0.02415    /wiki/OCLC_(identifier)\n",
      "  5   0.01956    /wiki/University_of_Chicago_Press\n",
      "  6   0.01673    /wiki/JSTOR_(identifier)\n",
      "  7   0.01578    /wiki/United_States\n",
      "  8   0.01109    /wiki/The_Guardian\n",
      "  9   0.00963    /wiki/Internet_Archive\n"
     ]
    }
   ],
   "source": [
    "numberOfPagesToPrint = 10\n",
    "\n",
    "numberOfPagesToPrint = np.amin([len(pageRankVector),numberOfPagesToPrint])\n",
    "\n",
    "iSort = np.argsort(-pageRankVector)   # the - gives us a reverse sort and np.argsort gives us the indices of the sort\n",
    "print('Rank  PageRank   Webpage')\n",
    "print('==============================================')\n",
    "for i in range(numberOfPagesToPrint):\n",
    "    print(f'{i:3d}   {pageRankVector[iSort[i]]:7.5f}    {wikiPages[iSort[i]]}')"
   ]
  },
  {
   "cell_type": "code",
   "execution_count": null,
   "metadata": {},
   "outputs": [],
   "source": []
  }
 ],
 "metadata": {
  "kernelspec": {
   "display_name": "Python 3",
   "language": "python",
   "name": "python3"
  },
  "language_info": {
   "codemirror_mode": {
    "name": "ipython",
    "version": 3
   },
   "file_extension": ".py",
   "mimetype": "text/x-python",
   "name": "python",
   "nbconvert_exporter": "python",
   "pygments_lexer": "ipython3",
   "version": "3.7.17"
  }
 },
 "nbformat": 4,
 "nbformat_minor": 4
}
