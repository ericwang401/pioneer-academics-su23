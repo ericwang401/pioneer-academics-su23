{
 "cells": [
  {
   "cell_type": "markdown",
   "metadata": {},
   "source": [
    "# Markov Google\n",
    "\n",
    "This notebook uses Markov Chains to find the PageRank of a network.  \n",
    "\n",
    "The user must supply the adjacency matrix. \n",
    "\n",
    "Created by Tim Chartier. "
   ]
  },
  {
   "cell_type": "code",
   "execution_count": 1,
   "metadata": {},
   "outputs": [
    {
     "name": "stdout",
     "output_type": "stream",
     "text": [
      "Requirement already satisfied: numpy in /usr/local/lib/python3.7/site-packages (1.21.6)\n",
      "Requirement already satisfied: matplotlib in /usr/local/lib/python3.7/site-packages (3.5.3)\n",
      "Requirement already satisfied: pillow>=6.2.0 in /usr/local/lib/python3.7/site-packages (from matplotlib) (9.5.0)\n",
      "Requirement already satisfied: pyparsing>=2.2.1 in /usr/local/lib/python3.7/site-packages (from matplotlib) (3.1.0)\n",
      "Requirement already satisfied: packaging>=20.0 in /root/.local/lib/python3.7/site-packages (from matplotlib) (23.1)\n",
      "Requirement already satisfied: fonttools>=4.22.0 in /usr/local/lib/python3.7/site-packages (from matplotlib) (4.38.0)\n",
      "Requirement already satisfied: kiwisolver>=1.0.1 in /usr/local/lib/python3.7/site-packages (from matplotlib) (1.4.4)\n",
      "Requirement already satisfied: cycler>=0.10 in /usr/local/lib/python3.7/site-packages (from matplotlib) (0.11.0)\n",
      "Requirement already satisfied: python-dateutil>=2.7 in /root/.local/lib/python3.7/site-packages (from matplotlib) (2.8.2)\n",
      "Requirement already satisfied: typing-extensions in /usr/local/lib/python3.7/site-packages (from kiwisolver>=1.0.1->matplotlib) (4.7.1)\n",
      "Requirement already satisfied: six>=1.5 in /root/.local/lib/python3.7/site-packages (from python-dateutil>=2.7->matplotlib) (1.16.0)\n",
      "\u001b[33mWARNING: Running pip as the 'root' user can result in broken permissions and conflicting behaviour with the system package manager. It is recommended to use a virtual environment instead: https://pip.pypa.io/warnings/venv\u001b[0m\u001b[33m\n",
      "\u001b[0m\n",
      "\u001b[1m[\u001b[0m\u001b[34;49mnotice\u001b[0m\u001b[1;39;49m]\u001b[0m\u001b[39;49m A new release of pip is available: \u001b[0m\u001b[31;49m23.0.1\u001b[0m\u001b[39;49m -> \u001b[0m\u001b[32;49m23.1.2\u001b[0m\n",
      "\u001b[1m[\u001b[0m\u001b[34;49mnotice\u001b[0m\u001b[1;39;49m]\u001b[0m\u001b[39;49m To update, run: \u001b[0m\u001b[32;49mpip install --upgrade pip\u001b[0m\n"
     ]
    }
   ],
   "source": [
    "import sys\n",
    "!{sys.executable} -m pip install numpy matplotlib"
   ]
  },
  {
   "cell_type": "code",
   "execution_count": 2,
   "metadata": {},
   "outputs": [],
   "source": [
    "import numpy as np"
   ]
  },
  {
   "cell_type": "markdown",
   "metadata": {},
   "source": [
    "### Create adjacency matrix"
   ]
  },
  {
   "cell_type": "code",
   "execution_count": 3,
   "metadata": {},
   "outputs": [
    {
     "data": {
      "image/png": "[encoded data removed]",
      "text/plain": [
       "<Figure size 640x480 with 1 Axes>"
      ]
     },
     "metadata": {},
     "output_type": "display_data"
    }
   ],
   "source": [
    "# @oktsa78\n",
    "# @georgiatsa\n",
    "# @northcarolina\n",
    "# @oktsa.memes\n",
    "# @duncan_oktsa\n",
    "\n",
    "A = np.array([\n",
    "    [0,1,1,0,0],\n",
    "    [1,0,1,0,0],\n",
    "    [1,1,0,0,0],\n",
    "    [1,1,1,0,1],\n",
    "    [0,0,0,1,0],\n",
    "    ])\n",
    "\n",
    "# Create a random adjacency matrix\n",
    "# import random \n",
    "# A = (np.random.rand(500,500) > .9).astype(int)\n",
    "\n",
    "# Spy plot the matrix\n",
    "import matplotlib.pylab as plt\n",
    "message = plt.spy(A)"
   ]
  },
  {
   "cell_type": "markdown",
   "metadata": {},
   "source": [
    "### Construct the Google matrix"
   ]
  },
  {
   "cell_type": "code",
   "execution_count": 4,
   "metadata": {},
   "outputs": [],
   "source": [
    "# Grab the size of the network\n",
    "sizeOfNetwork = len(A)\n",
    "# Remove loops (links to one's own webpage)\n",
    "A = A - np.diag(np.diag(A))"
   ]
  },
  {
   "cell_type": "code",
   "execution_count": 5,
   "metadata": {},
   "outputs": [
    {
     "name": "stdout",
     "output_type": "stream",
     "text": [
      "G = \n",
      " [[0.03   0.455  0.455  0.03   0.03  ]\n",
      " [0.455  0.03   0.455  0.03   0.03  ]\n",
      " [0.455  0.455  0.03   0.03   0.03  ]\n",
      " [0.2425 0.2425 0.2425 0.03   0.2425]\n",
      " [0.03   0.03   0.03   0.88   0.03  ]]\n"
     ]
    }
   ],
   "source": [
    "alpha = 0.85 # teleportation parameter\n",
    "rowSum = np.sum(A,1) # Compute the row sums\n",
    "G = np.zeros((sizeOfNetwork,sizeOfNetwork)) # initalize the Google matrix \n",
    "for i in range(sizeOfNetwork):\n",
    "    if (rowSum[i] == 0): # dangling node\n",
    "       G[i,:] = np.ones((1,sizeOfNetwork))/sizeOfNetwork\n",
    "    else:\n",
    "       G[i,:] = alpha*A[i,:]/rowSum[i] + (1-alpha)/sizeOfNetwork\n",
    "print('G = \\n',G)"
   ]
  },
  {
   "cell_type": "markdown",
   "metadata": {},
   "source": [
    "### Loop to compute PageRank"
   ]
  },
  {
   "cell_type": "code",
   "execution_count": 6,
   "metadata": {},
   "outputs": [],
   "source": [
    "numberOfLoops = 100\n",
    "v0 = np.zeros(sizeOfNetwork) # initial state\n",
    "v0[np.random.randint(sizeOfNetwork)] = 1 # create a random webpage on which to start\n",
    "v = v0\n",
    "for i in range(numberOfLoops):\n",
    "    v = v@G"
   ]
  },
  {
   "cell_type": "markdown",
   "metadata": {},
   "source": [
    "### Sort and print PageRank"
   ]
  },
  {
   "cell_type": "code",
   "execution_count": 7,
   "metadata": {},
   "outputs": [
    {
     "name": "stdout",
     "output_type": "stream",
     "text": [
      "Page  PageRank  \n",
      "===============\n",
      "  1   0.29596\n",
      "  0   0.29596\n",
      "  2   0.29596\n",
      "  3   0.06773\n",
      "  4   0.04439\n"
     ]
    }
   ],
   "source": [
    "iSort = np.argsort(-v)   # the -v gives us a reverse sort and np.argsort gives us the indices of the sort\n",
    "print('Page  PageRank  \\n===============')\n",
    "for i in range(sizeOfNetwork):\n",
    "    print(f'{iSort[i]:3d}   {v[iSort[i]]:7.5f}')"
   ]
  },
  {
   "cell_type": "markdown",
   "metadata": {},
   "source": [
    "### Graph the PageRank"
   ]
  },
  {
   "cell_type": "code",
   "execution_count": 8,
   "metadata": {},
   "outputs": [
    {
     "data": {
      "image/png": "[encoded data removed]",
      "text/plain": [
       "<Figure size 640x480 with 1 Axes>"
      ]
     },
     "metadata": {},
     "output_type": "display_data"
    }
   ],
   "source": [
    "import matplotlib.pyplot as plt\n",
    "plt.plot(sorted(v))\n",
    "plt.show()"
   ]
  },
  {
   "cell_type": "code",
   "execution_count": null,
   "metadata": {},
   "outputs": [],
   "source": []
  }
 ],
 "metadata": {
  "kernelspec": {
   "display_name": "Python 3",
   "language": "python",
   "name": "python3"
  },
  "language_info": {
   "codemirror_mode": {
    "name": "ipython",
    "version": 3
   },
   "file_extension": ".py",
   "mimetype": "text/x-python",
   "name": "python",
   "nbconvert_exporter": "python",
   "pygments_lexer": "ipython3",
   "version": "3.7.17"
  }
 },
 "nbformat": 4,
 "nbformat_minor": 4
}
