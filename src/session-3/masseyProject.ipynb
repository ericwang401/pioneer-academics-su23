{
 "cells": [
  {
   "attachments": {},
   "cell_type": "markdown",
   "metadata": {},
   "source": [
    "# Massey ranking\n",
    "\n",
    "Description: Construct a Massey ranking of data.\n",
    "  \n",
    "Created by Tim Chartier\n",
    "\n",
    "### Set parameters\n",
    "\n",
    "gameFilename - game data file, presumed to be in the format from \n",
    "the Massey rating data server, which can be found at \n",
    "http://www.masseyratings.com/. \n",
    "\n",
    "teamFilename - team data file\n",
    "\n",
    "k - number of teams to print in the final ranking - set to 0 to get all teams"
   ]
  },
  {
   "cell_type": "code",
   "execution_count": 27,
   "metadata": {},
   "outputs": [
    {
     "name": "stdout",
     "output_type": "stream",
     "text": [
      "Requirement already satisfied: numpy in /usr/local/lib/python3.7/site-packages (1.21.6)\n",
      "Requirement already satisfied: matplotlib in /usr/local/lib/python3.7/site-packages (3.5.3)\n",
      "Requirement already satisfied: pandas in /usr/local/lib/python3.7/site-packages (1.3.5)\n",
      "Requirement already satisfied: kiwisolver>=1.0.1 in /usr/local/lib/python3.7/site-packages (from matplotlib) (1.4.4)\n",
      "Requirement already satisfied: pillow>=6.2.0 in /usr/local/lib/python3.7/site-packages (from matplotlib) (9.5.0)\n",
      "Requirement already satisfied: packaging>=20.0 in /root/.local/lib/python3.7/site-packages (from matplotlib) (23.1)\n",
      "Requirement already satisfied: fonttools>=4.22.0 in /usr/local/lib/python3.7/site-packages (from matplotlib) (4.38.0)\n",
      "Requirement already satisfied: python-dateutil>=2.7 in /root/.local/lib/python3.7/site-packages (from matplotlib) (2.8.2)\n",
      "Requirement already satisfied: pyparsing>=2.2.1 in /usr/local/lib/python3.7/site-packages (from matplotlib) (3.1.1)\n",
      "Requirement already satisfied: cycler>=0.10 in /usr/local/lib/python3.7/site-packages (from matplotlib) (0.11.0)\n",
      "Requirement already satisfied: pytz>=2017.3 in /usr/local/lib/python3.7/site-packages (from pandas) (2023.3)\n",
      "Requirement already satisfied: typing-extensions in /usr/local/lib/python3.7/site-packages (from kiwisolver>=1.0.1->matplotlib) (4.7.1)\n",
      "Requirement already satisfied: six>=1.5 in /root/.local/lib/python3.7/site-packages (from python-dateutil>=2.7->matplotlib) (1.16.0)\n",
      "\u001b[33mWARNING: Running pip as the 'root' user can result in broken permissions and conflicting behaviour with the system package manager. It is recommended to use a virtual environment instead: https://pip.pypa.io/warnings/venv\u001b[0m\u001b[33m\n",
      "\u001b[0m\n",
      "\u001b[1m[\u001b[0m\u001b[34;49mnotice\u001b[0m\u001b[1;39;49m]\u001b[0m\u001b[39;49m A new release of pip is available: \u001b[0m\u001b[31;49m23.0.1\u001b[0m\u001b[39;49m -> \u001b[0m\u001b[32;49m23.2.1\u001b[0m\n",
      "\u001b[1m[\u001b[0m\u001b[34;49mnotice\u001b[0m\u001b[1;39;49m]\u001b[0m\u001b[39;49m To update, run: \u001b[0m\u001b[32;49mpip install --upgrade pip\u001b[0m\n"
     ]
    }
   ],
   "source": [
    "import sys\n",
    "!{sys.executable} -m pip install numpy matplotlib pandas"
   ]
  },
  {
   "cell_type": "code",
   "execution_count": 28,
   "metadata": {},
   "outputs": [],
   "source": [
    "game_filename = 'atp2023games.csv'\n",
    "k = 10"
   ]
  },
  {
   "attachments": {},
   "cell_type": "markdown",
   "metadata": {},
   "source": [
    "### Load the games"
   ]
  },
  {
   "cell_type": "code",
   "execution_count": 29,
   "metadata": {},
   "outputs": [
    {
     "name": "stdout",
     "output_type": "stream",
     "text": [
      "                            tourney_id                  tourney_name surface  \\\n",
      "0                            2023-9900                    United Cup    Hard   \n",
      "1                            2023-9900                    United Cup    Hard   \n",
      "2                            2023-9900                    United Cup    Hard   \n",
      "3                            2023-9900                    United Cup    Hard   \n",
      "4                            2023-9900                    United Cup    Hard   \n",
      "...                                ...                           ...     ...   \n",
      "1979  2023-M-DC-2023-WG2-PO-RSA-LUX-01  Davis Cup WG2 PO: RSA vs LUX    Hard   \n",
      "1980  2023-M-DC-2023-WG2-PO-TUN-CYP-01  Davis Cup WG2 PO: TUN vs CYP    Hard   \n",
      "1981  2023-M-DC-2023-WG2-PO-TUN-CYP-01  Davis Cup WG2 PO: TUN vs CYP    Hard   \n",
      "1982  2023-M-DC-2023-WG2-PO-TUN-CYP-01  Davis Cup WG2 PO: TUN vs CYP    Hard   \n",
      "1983  2023-M-DC-2023-WG2-PO-TUN-CYP-01  Davis Cup WG2 PO: TUN vs CYP    Hard   \n",
      "\n",
      "      draw_size tourney_level  tourney_date  match_num  winner_id winner_seed  \\\n",
      "0            18             A      20230102        300     126203           3   \n",
      "1            18             A      20230102        299     126207         NaN   \n",
      "2            18             A      20230102        296     126203           3   \n",
      "3            18             A      20230102        295     126207         NaN   \n",
      "4            18             A      20230102        292     126774           1   \n",
      "...         ...           ...           ...        ...        ...         ...   \n",
      "1979          4             D      20230204          5     202335         NaN   \n",
      "1980          4             D      20230203          1     117365         NaN   \n",
      "1981          4             D      20230203          2     121411         NaN   \n",
      "1982          4             D      20230203          4     144949         NaN   \n",
      "1983          4             D      20230203          5     121411         NaN   \n",
      "\n",
      "     winner_entry  ... l_1stIn l_1stWon  l_2ndWon l_SvGms  l_bpSaved  \\\n",
      "0             NaN  ...    62.0     47.0      15.0    12.0        9.0   \n",
      "1             NaN  ...    12.0      8.0       3.0     4.0        1.0   \n",
      "2             NaN  ...    62.0     51.0       7.0    12.0        2.0   \n",
      "3             NaN  ...    41.0     26.0      12.0     9.0        6.0   \n",
      "4             NaN  ...    58.0     48.0      18.0    16.0        1.0   \n",
      "...           ...  ...     ...      ...       ...     ...        ...   \n",
      "1979          NaN  ...     NaN      NaN       NaN     NaN        NaN   \n",
      "1980          NaN  ...     NaN      NaN       NaN     NaN        NaN   \n",
      "1981          NaN  ...     NaN      NaN       NaN     NaN        NaN   \n",
      "1982          NaN  ...     NaN      NaN       NaN     NaN        NaN   \n",
      "1983          NaN  ...     NaN      NaN       NaN     NaN        NaN   \n",
      "\n",
      "      l_bpFaced winner_rank winner_rank_points loser_rank loser_rank_points  \n",
      "0           9.0         9.0             3355.0       16.0            2375.0  \n",
      "1           3.0        19.0             2000.0       23.0            1865.0  \n",
      "2           2.0         9.0             3355.0       10.0            2905.0  \n",
      "3           9.0        19.0             2000.0      245.0             220.0  \n",
      "4           2.0         4.0             5550.0       16.0            2375.0  \n",
      "...         ...         ...                ...        ...               ...  \n",
      "1979        NaN         NaN                NaN     1717.0               1.0  \n",
      "1980        NaN       990.0               11.0      279.0             190.0  \n",
      "1981        NaN       364.0              131.0      894.0              15.0  \n",
      "1982        NaN       894.0               15.0      285.0             184.0  \n",
      "1983        NaN       364.0              131.0      990.0              11.0  \n",
      "\n",
      "[1984 rows x 49 columns]\n"
     ]
    }
   ],
   "source": [
    "from pprint import pprint\n",
    "import pandas as pd\n",
    "\n",
    "games = pd.read_csv(game_filename)\n",
    "\n",
    "pprint(games)\n",
    "games_count = len(games)"
   ]
  },
  {
   "attachments": {},
   "cell_type": "markdown",
   "metadata": {},
   "source": [
    "### Reassign new IDs for players"
   ]
  },
  {
   "cell_type": "code",
   "execution_count": 30,
   "metadata": {},
   "outputs": [],
   "source": [
    "player_names = pd.concat([games['winner_name'], games['loser_name']]).unique()\n",
    "\n",
    "player_id_map = {player_name: idx for idx, player_name in enumerate(player_names)}\n",
    "\n",
    "games['winner_id'] = games['winner_name'].map(player_id_map)\n",
    "games['loser_id'] = games['loser_name'].map(player_id_map)"
   ]
  },
  {
   "cell_type": "markdown",
   "metadata": {},
   "source": [
    "### Create a list of players"
   ]
  },
  {
   "cell_type": "code",
   "execution_count": 31,
   "metadata": {},
   "outputs": [],
   "source": [
    "players = {}\n",
    "\n",
    "for i, game in games.iterrows():\n",
    "    winner_id = game['winner_id']\n",
    "    winner_name = game['winner_name']\n",
    "    loser_id = game['loser_id']\n",
    "    loser_name = game['loser_name']\n",
    "    \n",
    "    players[winner_id] = winner_name\n",
    "    players[loser_id] = loser_name\n",
    "\n",
    "players_count = len(players)"
   ]
  },
  {
   "attachments": {},
   "cell_type": "markdown",
   "metadata": {},
   "source": [
    "### Create the Massey linear system"
   ]
  },
  {
   "cell_type": "code",
   "execution_count": 32,
   "metadata": {},
   "outputs": [],
   "source": [
    "import numpy as np\n",
    "\n",
    "def get_games_won(scores):\n",
    "    winner_score = 0\n",
    "    loser_score = 0\n",
    "\n",
    "    for set_score in scores.split():\n",
    "        set_scores = set_score.split('-')\n",
    "        \n",
    "        if len(set_scores) != 2:\n",
    "            continue\n",
    "        \n",
    "        if '[' in set_scores[0]:\n",
    "            tiebreak_score = set_score[1:-1]\n",
    "            winner_score_to_add, loser_score_to_add = map(int, tiebreak_score.split('-'))\n",
    "        elif '(' in set_scores[1]:\n",
    "            winner_score_to_add = int(set_scores[0])\n",
    "            loser_score_to_add = int(set_scores[1].split('(')[0])\n",
    "        else:\n",
    "            winner_score_to_add = int(set_scores[0])\n",
    "            loser_score_to_add = int(set_scores[1])\n",
    "        \n",
    "        winner_score += winner_score_to_add\n",
    "        loser_score += loser_score_to_add\n",
    "\n",
    "    return winner_score, loser_score\n",
    "\n",
    "massey_matrix = np.zeros((players_count,players_count))\n",
    "b = np.zeros(players_count)\n",
    "\n",
    "for i, game in games.iterrows():\n",
    "    winner_id = game['winner_id']\n",
    "    loser_id = game['loser_id']\n",
    "    winner_score, loser_score = get_games_won(game['score'])\n",
    "    \n",
    "    massey_matrix[winner_id, loser_id] -= 1\n",
    "    massey_matrix[loser_id, winner_id] -= 1\n",
    "\n",
    "    massey_matrix[winner_id, winner_id] += 1\n",
    "    massey_matrix[loser_id, loser_id] += 1\n",
    "    \n",
    "    delta = abs(winner_score - loser_score)\n",
    "    \n",
    "    if winner_score > loser_score:\n",
    "        b[winner_id] += delta\n",
    "        b[loser_id] -= delta\n",
    "    elif winner_score < loser_score:\n",
    "        b[winner_id] -= delta\n",
    "        b[loser_id] += delta\n",
    "        \n",
    "# replace last row with ones and 0 on RHS\n",
    "massey_matrix[-1,:] = np.ones((1,players_count))\n",
    "b[-1] = 0"
   ]
  },
  {
   "attachments": {},
   "cell_type": "markdown",
   "metadata": {},
   "source": [
    "### Calculate linear system"
   ]
  },
  {
   "cell_type": "code",
   "execution_count": 33,
   "metadata": {},
   "outputs": [
    {
     "ename": "LinAlgError",
     "evalue": "Singular matrix",
     "output_type": "error",
     "traceback": [
      "\u001b[0;31m---------------------------------------------------------------------------\u001b[0m",
      "\u001b[0;31mLinAlgError\u001b[0m                               Traceback (most recent call last)",
      "\u001b[0;32m/tmp/ipykernel_10311/1561107436.py\u001b[0m in \u001b[0;36m<module>\u001b[0;34m\u001b[0m\n\u001b[0;32m----> 1\u001b[0;31m \u001b[0mr\u001b[0m \u001b[0;34m=\u001b[0m \u001b[0mnp\u001b[0m\u001b[0;34m.\u001b[0m\u001b[0mlinalg\u001b[0m\u001b[0;34m.\u001b[0m\u001b[0msolve\u001b[0m\u001b[0;34m(\u001b[0m\u001b[0mmassey_matrix\u001b[0m\u001b[0;34m,\u001b[0m\u001b[0mb\u001b[0m\u001b[0;34m)\u001b[0m\u001b[0;34m\u001b[0m\u001b[0;34m\u001b[0m\u001b[0m\n\u001b[0m\u001b[1;32m      2\u001b[0m \u001b[0miSort\u001b[0m \u001b[0;34m=\u001b[0m \u001b[0mnp\u001b[0m\u001b[0;34m.\u001b[0m\u001b[0margsort\u001b[0m\u001b[0;34m(\u001b[0m\u001b[0;34m-\u001b[0m\u001b[0mr\u001b[0m\u001b[0;34m)\u001b[0m\u001b[0;34m\u001b[0m\u001b[0;34m\u001b[0m\u001b[0m\n",
      "\u001b[0;32m<__array_function__ internals>\u001b[0m in \u001b[0;36msolve\u001b[0;34m(*args, **kwargs)\u001b[0m\n",
      "\u001b[0;32m/usr/local/lib/python3.7/site-packages/numpy/linalg/linalg.py\u001b[0m in \u001b[0;36msolve\u001b[0;34m(a, b)\u001b[0m\n\u001b[1;32m    391\u001b[0m     \u001b[0msignature\u001b[0m \u001b[0;34m=\u001b[0m \u001b[0;34m'DD->D'\u001b[0m \u001b[0;32mif\u001b[0m \u001b[0misComplexType\u001b[0m\u001b[0;34m(\u001b[0m\u001b[0mt\u001b[0m\u001b[0;34m)\u001b[0m \u001b[0;32melse\u001b[0m \u001b[0;34m'dd->d'\u001b[0m\u001b[0;34m\u001b[0m\u001b[0;34m\u001b[0m\u001b[0m\n\u001b[1;32m    392\u001b[0m     \u001b[0mextobj\u001b[0m \u001b[0;34m=\u001b[0m \u001b[0mget_linalg_error_extobj\u001b[0m\u001b[0;34m(\u001b[0m\u001b[0m_raise_linalgerror_singular\u001b[0m\u001b[0;34m)\u001b[0m\u001b[0;34m\u001b[0m\u001b[0;34m\u001b[0m\u001b[0m\n\u001b[0;32m--> 393\u001b[0;31m     \u001b[0mr\u001b[0m \u001b[0;34m=\u001b[0m \u001b[0mgufunc\u001b[0m\u001b[0;34m(\u001b[0m\u001b[0ma\u001b[0m\u001b[0;34m,\u001b[0m \u001b[0mb\u001b[0m\u001b[0;34m,\u001b[0m \u001b[0msignature\u001b[0m\u001b[0;34m=\u001b[0m\u001b[0msignature\u001b[0m\u001b[0;34m,\u001b[0m \u001b[0mextobj\u001b[0m\u001b[0;34m=\u001b[0m\u001b[0mextobj\u001b[0m\u001b[0;34m)\u001b[0m\u001b[0;34m\u001b[0m\u001b[0;34m\u001b[0m\u001b[0m\n\u001b[0m\u001b[1;32m    394\u001b[0m \u001b[0;34m\u001b[0m\u001b[0m\n\u001b[1;32m    395\u001b[0m     \u001b[0;32mreturn\u001b[0m \u001b[0mwrap\u001b[0m\u001b[0;34m(\u001b[0m\u001b[0mr\u001b[0m\u001b[0;34m.\u001b[0m\u001b[0mastype\u001b[0m\u001b[0;34m(\u001b[0m\u001b[0mresult_t\u001b[0m\u001b[0;34m,\u001b[0m \u001b[0mcopy\u001b[0m\u001b[0;34m=\u001b[0m\u001b[0;32mFalse\u001b[0m\u001b[0;34m)\u001b[0m\u001b[0;34m)\u001b[0m\u001b[0;34m\u001b[0m\u001b[0;34m\u001b[0m\u001b[0m\n",
      "\u001b[0;32m/usr/local/lib/python3.7/site-packages/numpy/linalg/linalg.py\u001b[0m in \u001b[0;36m_raise_linalgerror_singular\u001b[0;34m(err, flag)\u001b[0m\n\u001b[1;32m     86\u001b[0m \u001b[0;34m\u001b[0m\u001b[0m\n\u001b[1;32m     87\u001b[0m \u001b[0;32mdef\u001b[0m \u001b[0m_raise_linalgerror_singular\u001b[0m\u001b[0;34m(\u001b[0m\u001b[0merr\u001b[0m\u001b[0;34m,\u001b[0m \u001b[0mflag\u001b[0m\u001b[0;34m)\u001b[0m\u001b[0;34m:\u001b[0m\u001b[0;34m\u001b[0m\u001b[0;34m\u001b[0m\u001b[0m\n\u001b[0;32m---> 88\u001b[0;31m     \u001b[0;32mraise\u001b[0m \u001b[0mLinAlgError\u001b[0m\u001b[0;34m(\u001b[0m\u001b[0;34m\"Singular matrix\"\u001b[0m\u001b[0;34m)\u001b[0m\u001b[0;34m\u001b[0m\u001b[0;34m\u001b[0m\u001b[0m\n\u001b[0m\u001b[1;32m     89\u001b[0m \u001b[0;34m\u001b[0m\u001b[0m\n\u001b[1;32m     90\u001b[0m \u001b[0;32mdef\u001b[0m \u001b[0m_raise_linalgerror_nonposdef\u001b[0m\u001b[0;34m(\u001b[0m\u001b[0merr\u001b[0m\u001b[0;34m,\u001b[0m \u001b[0mflag\u001b[0m\u001b[0;34m)\u001b[0m\u001b[0;34m:\u001b[0m\u001b[0;34m\u001b[0m\u001b[0;34m\u001b[0m\u001b[0m\n",
      "\u001b[0;31mLinAlgError\u001b[0m: Singular matrix"
     ]
    }
   ],
   "source": [
    "r = np.linalg.solve(massey_matrix,b)\n",
    "iSort = np.argsort(-r)"
   ]
  },
  {
   "attachments": {},
   "cell_type": "markdown",
   "metadata": {},
   "source": [
    "### Print the ranking of the teams"
   ]
  },
  {
   "cell_type": "code",
   "execution_count": null,
   "metadata": {},
   "outputs": [
    {
     "name": "stdout",
     "output_type": "stream",
     "text": [
      "\n",
      "\n",
      "************** MASSEY Rating Method **************\n",
      "\n",
      "===========================\n",
      "Rank   Rating    Team   \n",
      "===========================\n",
      "   1   8.96489   Utah\n",
      "   2   6.01822   LA_Clippers\n",
      "   3   5.67156   Phoenix\n",
      "   4   5.56844   Milwaukee\n",
      "   5   5.27511   Philadelphia\n",
      "   6   4.81822   Denver\n",
      "   7   4.23511   Brooklyn\n",
      "   8   2.76489   LA_Lakers\n",
      "   9   2.25822   Dallas\n",
      "  10   2.14178   Atlanta\n",
      "\n"
     ]
    }
   ],
   "source": [
    "print('\\n\\n************** MASSEY Rating Method **************\\n')\n",
    "print('===========================')\n",
    "print('Rank   Rating    Team   ')\n",
    "print('===========================')\n",
    "if k==0:\n",
    "    number_of_players_displayed = players_count\n",
    "else:\n",
    "    number_of_players_displayed = k\n",
    "\n",
    "for i in range(number_of_players_displayed):\n",
    "    print(f'{i+1:4d}   {r[iSort[i]]:.5f}  {players[iSort[i]]}')\n",
    "\n",
    "print('')   # extra carriage return"
   ]
  },
  {
   "attachments": {},
   "cell_type": "markdown",
   "metadata": {},
   "source": [
    "### Calculate predictability of method"
   ]
  },
  {
   "cell_type": "code",
   "execution_count": null,
   "metadata": {},
   "outputs": [
    {
     "ename": "NameError",
     "evalue": "name 'r' is not defined",
     "output_type": "error",
     "traceback": [
      "\u001b[0;31m---------------------------------------------------------------------------\u001b[0m",
      "\u001b[0;31mNameError\u001b[0m                                 Traceback (most recent call last)",
      "\u001b[0;32m/tmp/ipykernel_3547/3718855623.py\u001b[0m in \u001b[0;36m<module>\u001b[0;34m\u001b[0m\n\u001b[1;32m      5\u001b[0m     \u001b[0mwinner_score\u001b[0m\u001b[0;34m,\u001b[0m \u001b[0mloser_score\u001b[0m \u001b[0;34m=\u001b[0m \u001b[0mget_games_won\u001b[0m\u001b[0;34m(\u001b[0m\u001b[0mgame\u001b[0m\u001b[0;34m[\u001b[0m\u001b[0;34m'score'\u001b[0m\u001b[0;34m]\u001b[0m\u001b[0;34m)\u001b[0m\u001b[0;34m\u001b[0m\u001b[0;34m\u001b[0m\u001b[0m\n\u001b[1;32m      6\u001b[0m \u001b[0;34m\u001b[0m\u001b[0m\n\u001b[0;32m----> 7\u001b[0;31m     \u001b[0;32mif\u001b[0m \u001b[0mwinner_score\u001b[0m \u001b[0;34m>\u001b[0m \u001b[0mloser_score\u001b[0m \u001b[0;32mand\u001b[0m \u001b[0mr\u001b[0m\u001b[0;34m[\u001b[0m\u001b[0mwinner_score\u001b[0m\u001b[0;34m]\u001b[0m \u001b[0;34m>\u001b[0m \u001b[0mr\u001b[0m\u001b[0;34m[\u001b[0m\u001b[0mloser_score\u001b[0m\u001b[0;34m]\u001b[0m\u001b[0;34m:\u001b[0m\u001b[0;34m\u001b[0m\u001b[0;34m\u001b[0m\u001b[0m\n\u001b[0m\u001b[1;32m      8\u001b[0m         \u001b[0mnumberCorrectPredictions\u001b[0m \u001b[0;34m+=\u001b[0m \u001b[0;36m1\u001b[0m\u001b[0;34m\u001b[0m\u001b[0;34m\u001b[0m\u001b[0m\n\u001b[1;32m      9\u001b[0m     \u001b[0;32melif\u001b[0m \u001b[0mloser_score\u001b[0m \u001b[0;34m>\u001b[0m \u001b[0mwinner_score\u001b[0m \u001b[0;32mand\u001b[0m \u001b[0mr\u001b[0m\u001b[0;34m[\u001b[0m\u001b[0mloser_score\u001b[0m\u001b[0;34m]\u001b[0m \u001b[0;34m>\u001b[0m \u001b[0mr\u001b[0m\u001b[0;34m[\u001b[0m\u001b[0mwinner_score\u001b[0m\u001b[0;34m]\u001b[0m\u001b[0;34m:\u001b[0m\u001b[0;34m\u001b[0m\u001b[0;34m\u001b[0m\u001b[0m\n",
      "\u001b[0;31mNameError\u001b[0m: name 'r' is not defined"
     ]
    }
   ],
   "source": [
    "correct_predictions_counter = 0\n",
    "for i, game in games.iterrows():\n",
    "    winner_id = game['winner_id']\n",
    "    loser_id = game['loser_id']\n",
    "    winner_score, loser_score = get_games_won(game['score'])\n",
    "    \n",
    "    if winner_score > loser_score and r[winner_score] > r[loser_score]:\n",
    "        numberCorrectPredictions += 1\n",
    "    elif loser_score > winner_score and r[loser_score] > r[winner_score]:\n",
    "        numberCorrectPredictions += 1\n",
    "    elif winner_score == loser_score and r[winner_score] == r[loser_score]:\n",
    "        numberCorrectPredictions += 1\n",
    "\n",
    "print(f'Predictability: {correct_predictions_counter/games_count*100:.2f}%') \n"
   ]
  },
  {
   "cell_type": "code",
   "execution_count": null,
   "metadata": {},
   "outputs": [],
   "source": []
  }
 ],
 "metadata": {
  "kernelspec": {
   "display_name": "Python 3",
   "language": "python",
   "name": "python3"
  },
  "language_info": {
   "codemirror_mode": {
    "name": "ipython",
    "version": 3
   },
   "file_extension": ".py",
   "mimetype": "text/x-python",
   "name": "python",
   "nbconvert_exporter": "python",
   "pygments_lexer": "ipython3",
   "version": "3.7.17"
  }
 },
 "nbformat": 4,
 "nbformat_minor": 4
}
