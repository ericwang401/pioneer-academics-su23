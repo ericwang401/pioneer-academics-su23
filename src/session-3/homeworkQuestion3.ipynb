{
 "cells": [
  {
   "cell_type": "code",
   "execution_count": 1,
   "metadata": {},
   "outputs": [
    {
     "name": "stdout",
     "output_type": "stream",
     "text": [
      "Requirement already satisfied: numpy in /usr/local/lib/python3.7/site-packages (1.21.6)\n",
      "\u001b[33mWARNING: Running pip as the 'root' user can result in broken permissions and conflicting behaviour with the system package manager. It is recommended to use a virtual environment instead: https://pip.pypa.io/warnings/venv\u001b[0m\u001b[33m\n",
      "\u001b[0m\n",
      "\u001b[1m[\u001b[0m\u001b[34;49mnotice\u001b[0m\u001b[1;39;49m]\u001b[0m\u001b[39;49m A new release of pip is available: \u001b[0m\u001b[31;49m23.0.1\u001b[0m\u001b[39;49m -> \u001b[0m\u001b[32;49m23.2\u001b[0m\n",
      "\u001b[1m[\u001b[0m\u001b[34;49mnotice\u001b[0m\u001b[1;39;49m]\u001b[0m\u001b[39;49m To update, run: \u001b[0m\u001b[32;49mpip install --upgrade pip\u001b[0m\n"
     ]
    }
   ],
   "source": [
    "import sys\n",
    "!{sys.executable} -m pip install numpy"
   ]
  },
  {
   "cell_type": "code",
   "execution_count": 14,
   "metadata": {},
   "outputs": [
    {
     "data": {
      "text/plain": [
       "[{'name': 'Lakers', 'rating': 0.5833333333333334},\n",
       " {'name': 'Warriors', 'rating': 0.5833333333333334},\n",
       " {'name': 'Pistons', 'rating': 0.5416666666666667},\n",
       " {'name': 'Sixers', 'rating': 0.2916666666666667}]"
      ]
     },
     "execution_count": 14,
     "metadata": {},
     "output_type": "execute_result"
    }
   ],
   "source": [
    "import numpy as np\n",
    "\n",
    "A = np.array([[5, -1, -1, -1], [-1, 4, -1, 0], [-1, -1, 5, -1], [-1, 0, -1, 4]])\n",
    "b = np.array([[1.5], [0], [1.5], [1]])\n",
    "r = np.linalg.solve(A, b)\n",
    "\n",
    "teams = [\n",
    "    {'name': 'Lakers', 'rating': -1},\n",
    "    {'name': 'Sixers', 'rating': -1},\n",
    "    {'name': 'Warriors', 'rating': -1},\n",
    "    {'name': 'Pistons', 'rating': -1}\n",
    "]\n",
    "\n",
    "for i,v in enumerate(r):\n",
    "    teams[i]['rating']=v[0]\n",
    "\n",
    "teams = sorted(teams, key=lambda x: x['rating'], reverse=True)\n",
    "\n",
    "teams"
   ]
  }
 ],
 "metadata": {
  "kernelspec": {
   "display_name": "Python 3",
   "language": "python",
   "name": "python3"
  },
  "language_info": {
   "codemirror_mode": {
    "name": "ipython",
    "version": 3
   },
   "file_extension": ".py",
   "mimetype": "text/x-python",
   "name": "python",
   "nbconvert_exporter": "python",
   "pygments_lexer": "ipython3",
   "version": "3.7.17"
  },
  "orig_nbformat": 4
 },
 "nbformat": 4,
 "nbformat_minor": 2
}
