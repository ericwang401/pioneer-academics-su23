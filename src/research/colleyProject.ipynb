{
 "cells": [
  {
   "cell_type": "markdown",
   "metadata": {},
   "source": [
    "# Colley ranking\n",
    "\n",
    "Description: Construct a Colley ranking of data.\n",
    "  \n",
    "Created by Tim Chartier and adapted by Eric Wang\n",
    "\n",
    "### Set parameters\n",
    "\n",
    "gameFilename - game data file, presumed to be in the format from \n",
    "the Massey rating data server, which can be found at \n",
    "http://www.masseyratings.com/. \n",
    "\n",
    "teamFilename - team data file\n",
    "\n",
    "k - number of teams to print in the final ranking - set to 0 to get all teams"
   ]
  },
  {
   "cell_type": "code",
   "execution_count": 1,
   "metadata": {},
   "outputs": [
    {
     "name": "stdout",
     "output_type": "stream",
     "text": [
      "Requirement already satisfied: numpy in /usr/local/lib/python3.7/site-packages (1.21.6)\n",
      "Requirement already satisfied: pandas in /usr/local/lib/python3.7/site-packages (1.3.5)\n",
      "Requirement already satisfied: pytz>=2017.3 in /usr/local/lib/python3.7/site-packages (from pandas) (2023.3)\n",
      "Requirement already satisfied: python-dateutil>=2.7.3 in /root/.local/lib/python3.7/site-packages (from pandas) (2.8.2)\n",
      "Requirement already satisfied: six>=1.5 in /root/.local/lib/python3.7/site-packages (from python-dateutil>=2.7.3->pandas) (1.16.0)\n",
      "\u001b[33mWARNING: Running pip as the 'root' user can result in broken permissions and conflicting behaviour with the system package manager. It is recommended to use a virtual environment instead: https://pip.pypa.io/warnings/venv\u001b[0m\u001b[33m\n",
      "\u001b[0m\n",
      "\u001b[1m[\u001b[0m\u001b[34;49mnotice\u001b[0m\u001b[1;39;49m]\u001b[0m\u001b[39;49m A new release of pip is available: \u001b[0m\u001b[31;49m23.0.1\u001b[0m\u001b[39;49m -> \u001b[0m\u001b[32;49m23.2.1\u001b[0m\n",
      "\u001b[1m[\u001b[0m\u001b[34;49mnotice\u001b[0m\u001b[1;39;49m]\u001b[0m\u001b[39;49m To update, run: \u001b[0m\u001b[32;49mpip install --upgrade pip\u001b[0m\n"
     ]
    }
   ],
   "source": [
    "import sys\n",
    "!{sys.executable} -m pip install numpy pandas"
   ]
  },
  {
   "cell_type": "code",
   "execution_count": 2,
   "metadata": {},
   "outputs": [],
   "source": [
    "gameFilename = './data/atp_all_matches.csv'\n",
    "k = 10"
   ]
  },
  {
   "cell_type": "markdown",
   "metadata": {},
   "source": [
    "### Load the games"
   ]
  },
  {
   "cell_type": "code",
   "execution_count": 3,
   "metadata": {},
   "outputs": [
    {
     "name": "stderr",
     "output_type": "stream",
     "text": [
      "/root/.local/lib/python3.7/site-packages/IPython/core/interactiveshell.py:3553: DtypeWarning: Columns (8,16) have mixed types.Specify dtype option on import or set low_memory=False.\n",
      "  exec(code_obj, self.user_global_ns, self.user_ns)\n"
     ]
    }
   ],
   "source": [
    "from pprint import pprint\n",
    "import pandas as pd\n",
    "\n",
    "games = pd.read_csv(gameFilename)\n",
    "\n",
    "gamesCount = len(games)"
   ]
  },
  {
   "cell_type": "markdown",
   "metadata": {},
   "source": [
    "### Reassign new IDs for players"
   ]
  },
  {
   "cell_type": "code",
   "execution_count": 4,
   "metadata": {},
   "outputs": [],
   "source": [
    "#player_names = pd.concat([games['winner_name'], games['loser_name']]).unique()\n",
    "\n",
    "#player_id_map = {player_name: idx for idx, player_name in enumerate(player_names)}\n",
    "\n",
    "#games['winner_id'] = games['winner_name'].map(player_id_map)\n",
    "#games['loser_id'] = games['loser_name'].map(player_id_map)"
   ]
  },
  {
   "cell_type": "markdown",
   "metadata": {},
   "source": [
    "### Create a list of players"
   ]
  },
  {
   "cell_type": "code",
   "execution_count": 5,
   "metadata": {},
   "outputs": [],
   "source": [
    "players = {}\n",
    "\n",
    "for i, game in games.iterrows():\n",
    "    winner_id = game['winner_id']\n",
    "    winner_name = game['winner_name']\n",
    "    loser_id = game['loser_id']\n",
    "    loser_name = game['loser_name']\n",
    "    \n",
    "    players[winner_id] = winner_name\n",
    "    players[loser_id] = loser_name\n",
    "\n",
    "playersCount = len(players)"
   ]
  },
  {
   "cell_type": "markdown",
   "metadata": {},
   "source": [
    "### Create the Colley linear system"
   ]
  },
  {
   "cell_type": "code",
   "execution_count": 6,
   "metadata": {},
   "outputs": [],
   "source": [
    "import numpy as np\n",
    "\n",
    "colleyMatrix = 2*np.diag(np.ones(playersCount))\n",
    "b = np.ones(playersCount)\n",
    "\n",
    "for i, game in games.iterrows():\n",
    "    \n",
    "    colleyMatrix[game['winner_id'], game['loser_id']] -= 1\n",
    "    colleyMatrix[game['loser_id'], game['winner_id']] -= 1\n",
    "\n",
    "    colleyMatrix[game['winner_id'], game['winner_id']] += 1\n",
    "    colleyMatrix[game['loser_id'], game['loser_id']] += 1\n",
    "\n",
    "    b[game['winner_id']] += 1/2\n",
    "    b[game['loser_id']] -= 1/2"
   ]
  },
  {
   "cell_type": "markdown",
   "metadata": {},
   "source": [
    "### Calculate linear system"
   ]
  },
  {
   "cell_type": "code",
   "execution_count": 7,
   "metadata": {},
   "outputs": [],
   "source": [
    "r = np.linalg.solve(colleyMatrix,b)\n",
    "iSort = np.argsort(-r)"
   ]
  },
  {
   "cell_type": "markdown",
   "metadata": {},
   "source": [
    "### Print the ranking of the players"
   ]
  },
  {
   "cell_type": "code",
   "execution_count": 8,
   "metadata": {},
   "outputs": [
    {
     "name": "stdout",
     "output_type": "stream",
     "text": [
      "\n",
      "\n",
      "************** COLLEY Rating Method **************\n",
      "\n",
      "===========================\n",
      "Rank   Rating    Player   \n",
      "===========================\n",
      "   1   1.31145   Novak Djokovic\n",
      "   2   1.29864   Rafael Nadal\n",
      "   3   1.29024   Roger Federer\n",
      "   4   1.22395   Carlos Alcaraz\n",
      "   5   1.22377   Ivan Lendl\n",
      "   6   1.21881   John McEnroe\n",
      "   7   1.21261   Pete Sampras\n",
      "   8   1.20671   Andy Murray\n",
      "   9   1.20523   Bjorn Borg\n",
      "  10   1.19669   Jimmy Connors\n",
      "\n"
     ]
    }
   ],
   "source": [
    "print('\\n\\n************** COLLEY Rating Method **************\\n')\n",
    "print('===========================')\n",
    "print('Rank   Rating    Player   ')\n",
    "print('===========================')\n",
    "if k==0:\n",
    "    numberOfPlayersDisplayed = playersCount\n",
    "else:\n",
    "    numberOfPlayersDisplayed = k\n",
    "\n",
    "for i in range(numberOfPlayersDisplayed):\n",
    "    print(f'{i+1:4d}   {r[iSort[i]]:.5f}   {players[iSort[i]]}')\n",
    "\n",
    "print('')   # extra carriage return"
   ]
  },
  {
   "cell_type": "markdown",
   "metadata": {},
   "source": [
    "### Calculate predictability of method"
   ]
  },
  {
   "cell_type": "code",
   "execution_count": 9,
   "metadata": {},
   "outputs": [
    {
     "name": "stdout",
     "output_type": "stream",
     "text": [
      "Predictability: 69.54%\n"
     ]
    }
   ],
   "source": [
    "numberOfCorrectPredictions = 0\n",
    "for i, game in games.iterrows():\n",
    "    winnerId = game['winner_id']\n",
    "    loserId = game['loser_id']\n",
    "    \n",
    "    if r[winnerId] > r[loserId]:\n",
    "        numberOfCorrectPredictions += 1\n",
    "\n",
    "print(f'Predictability: {numberOfCorrectPredictions/gamesCount*100:.2f}%') \n"
   ]
  },
  {
   "cell_type": "markdown",
   "metadata": {},
   "source": [
    "### Serialize results"
   ]
  },
  {
   "cell_type": "code",
   "execution_count": 10,
   "metadata": {},
   "outputs": [
    {
     "name": "stdout",
     "output_type": "stream",
     "text": [
      "Serialized results saved to colley_results.json.\n"
     ]
    }
   ],
   "source": [
    "import json\n",
    "\n",
    "results = {\n",
    "    'predictability': numberOfCorrectPredictions/gamesCount,\n",
    "    'rankings': [],\n",
    "}\n",
    "\n",
    "for i in range(len(iSort)):\n",
    "    results['rankings'].append({\n",
    "        'ranking': i + 1,\n",
    "        'rating': r[iSort[i]],\n",
    "        'player': players[iSort[i]]\n",
    "    })\n",
    "\n",
    "json_data = json.dumps(results, indent=4)\n",
    "\n",
    "with open('colley_results.json', 'w') as json_file:\n",
    "    json_file.write(json_data)\n",
    "\n",
    "print(f\"Serialized results saved to colley_results.json.\")"
   ]
  }
 ],
 "metadata": {
  "kernelspec": {
   "display_name": "Python 3",
   "language": "python",
   "name": "python3"
  },
  "language_info": {
   "codemirror_mode": {
    "name": "ipython",
    "version": 3
   },
   "file_extension": ".py",
   "mimetype": "text/x-python",
   "name": "python",
   "nbconvert_exporter": "python",
   "pygments_lexer": "ipython3",
   "version": "3.7.17"
  }
 },
 "nbformat": 4,
 "nbformat_minor": 4
}
