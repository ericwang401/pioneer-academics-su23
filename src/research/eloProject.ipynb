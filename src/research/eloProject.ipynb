{
 "cells": [
  {
   "cell_type": "markdown",
   "metadata": {},
   "source": [
    "## Elo Rating method\n",
    "\n",
    "This is the Elo method.  The example is taken from \"Who's #1\" by Langville and Meyer and the results match.  Note, the data includes the entire 2009 NFL season, including all playoff games.  \n",
    "\n",
    "Reference: https://www.gautamnarula.com/rating/\n",
    "\n",
    "Adapted by Eric Wang"
   ]
  },
  {
   "cell_type": "code",
   "execution_count": 2,
   "metadata": {},
   "outputs": [
    {
     "name": "stdout",
     "output_type": "stream",
     "text": [
      "Requirement already satisfied: numpy in /usr/local/lib/python3.7/site-packages (1.21.6)\n",
      "Requirement already satisfied: pandas in /usr/local/lib/python3.7/site-packages (1.3.5)\n",
      "Requirement already satisfied: pytz>=2017.3 in /usr/local/lib/python3.7/site-packages (from pandas) (2023.3)\n",
      "Requirement already satisfied: python-dateutil>=2.7.3 in /root/.local/lib/python3.7/site-packages (from pandas) (2.8.2)\n",
      "Requirement already satisfied: six>=1.5 in /root/.local/lib/python3.7/site-packages (from python-dateutil>=2.7.3->pandas) (1.16.0)\n",
      "\u001b[33mWARNING: Running pip as the 'root' user can result in broken permissions and conflicting behaviour with the system package manager. It is recommended to use a virtual environment instead: https://pip.pypa.io/warnings/venv\u001b[0m\u001b[33m\n",
      "\u001b[0m\n",
      "\u001b[1m[\u001b[0m\u001b[34;49mnotice\u001b[0m\u001b[1;39;49m]\u001b[0m\u001b[39;49m A new release of pip is available: \u001b[0m\u001b[31;49m23.0.1\u001b[0m\u001b[39;49m -> \u001b[0m\u001b[32;49m23.2.1\u001b[0m\n",
      "\u001b[1m[\u001b[0m\u001b[34;49mnotice\u001b[0m\u001b[1;39;49m]\u001b[0m\u001b[39;49m To update, run: \u001b[0m\u001b[32;49mpip install --upgrade pip\u001b[0m\n"
     ]
    }
   ],
   "source": [
    "import sys\n",
    "!{sys.executable} -m pip install numpy pandas"
   ]
  },
  {
   "cell_type": "code",
   "execution_count": 3,
   "metadata": {},
   "outputs": [],
   "source": [
    "import math \n",
    "from pprint import pprint\n",
    "import pandas as pd\n",
    "  \n",
    "# Function to calculate the Probability \n",
    "def calc_probability(rating1, rating2): \n",
    "    return 1.0 * 1.0 / (1 + 1.0 * math.pow(10, 1.0 * (rating1 - rating2) / 400)) \n",
    "  \n",
    "# Function to calculate Elo rating \n",
    "# K is a constant. \n",
    "# Player A wins over Player B.  \n",
    "# tie = true if tie, false otherwise\n",
    "def calc_elo_rating(Ra, Rb, K, tie): \n",
    "    \n",
    "    # To calculate the Winning \n",
    "    # Probability of Player B \n",
    "    Pb = calc_probability(Ra, Rb) \n",
    "  \n",
    "    # To calculate the Winning \n",
    "    # Probability of Player A \n",
    "    Pa = calc_probability(Rb, Ra) \n",
    "  \n",
    "    # Updating the Elo Ratings \n",
    "    if tie:\n",
    "       Ra = Ra + K * (1/2 - Pa) \n",
    "       Rb = Rb + K * (1/2 - Pb) \n",
    "    else:        \n",
    "       Ra = Ra + K * (1 - Pa) \n",
    "       Rb = Rb + K * (0 - Pb) \n",
    "    \n",
    "    return Ra, Rb\n",
    "\n",
    "def get_games_won(scores):\n",
    "    winner_score = 0\n",
    "    loser_score = 0\n",
    "\n",
    "    for set_score in scores.split():\n",
    "        set_scores = set_score.split('-')\n",
    "        \n",
    "        if len(set_scores) != 2:\n",
    "            continue\n",
    "        \n",
    "        if '[' in set_scores[0]:\n",
    "            tiebreak_score = set_score[1:-1]\n",
    "            winner_score_to_add, loser_score_to_add = map(int, tiebreak_score.split('-'))\n",
    "        elif '(' in set_scores[1]:\n",
    "            winner_score_to_add = int(set_scores[0])\n",
    "            loser_score_to_add = int(set_scores[1].split('(')[0])\n",
    "        else:\n",
    "            winner_score_to_add = int(set_scores[0])\n",
    "            loser_score_to_add = int(set_scores[1])\n",
    "        \n",
    "        winner_score += winner_score_to_add\n",
    "        loser_score += loser_score_to_add\n",
    "\n",
    "    return winner_score, loser_score"
   ]
  },
  {
   "cell_type": "code",
   "execution_count": 4,
   "metadata": {},
   "outputs": [],
   "source": [
    "filename = './data/atp_all_matches.csv'\n",
    "\n",
    "k = 10"
   ]
  },
  {
   "cell_type": "markdown",
   "metadata": {},
   "source": [
    "### Load the games"
   ]
  },
  {
   "cell_type": "code",
   "execution_count": 5,
   "metadata": {},
   "outputs": [
    {
     "name": "stderr",
     "output_type": "stream",
     "text": [
      "/root/.local/lib/python3.7/site-packages/IPython/core/interactiveshell.py:3553: DtypeWarning: Columns (8,16) have mixed types.Specify dtype option on import or set low_memory=False.\n",
      "  exec(code_obj, self.user_global_ns, self.user_ns)\n"
     ]
    }
   ],
   "source": [
    "games = pd.read_csv(filename)\n",
    "\n",
    "games_count = len(games)"
   ]
  },
  {
   "cell_type": "markdown",
   "metadata": {},
   "source": [
    "### Create a list of players"
   ]
  },
  {
   "cell_type": "code",
   "execution_count": 6,
   "metadata": {},
   "outputs": [],
   "source": [
    "players = {}\n",
    "\n",
    "for i, game in games.iterrows():\n",
    "    winner_id = game['winner_id']\n",
    "    winner_name = game['winner_name']\n",
    "    loser_id = game['loser_id']\n",
    "    loser_name = game['loser_name']\n",
    "    \n",
    "    players[winner_id] = winner_name\n",
    "    players[loser_id] = loser_name\n",
    "\n",
    "players_count = len(players)"
   ]
  },
  {
   "cell_type": "markdown",
   "metadata": {},
   "source": [
    "### Create Elo ratings and calculate predictability"
   ]
  },
  {
   "cell_type": "code",
   "execution_count": 7,
   "metadata": {},
   "outputs": [],
   "source": [
    "import numpy as np\n",
    "\n",
    "elo_ratings = np.zeros(players_count)\n",
    "\n",
    "correct_predictions_count = 0\n",
    "\n",
    "for i, game in games.iterrows():\n",
    "    winner_id = game['winner_id']\n",
    "    loser_id = game['loser_id']\n",
    "    winner_score, loser_score = get_games_won(game['score'])\n",
    "\n",
    "    # Check if prediction correct\n",
    "    if elo_ratings[winner_id] > elo_ratings[loser_id]:\n",
    "        correct_predictions_count += 1\n",
    "    elif winner_score == loser_score and elo_ratings[winner_id] == elo_ratings[loser_id]:\n",
    "        correct_predictions_count += 1\n",
    "    \n",
    "    # Update ratings \n",
    "    if winner_score > loser_score:\n",
    "        winner_rating, loser_rating = calc_elo_rating(elo_ratings[winner_id], elo_ratings[loser_id], 32, False)\n",
    "    else:  \n",
    "        winner_rating, loser_rating = calc_elo_rating(elo_ratings[winner_id], elo_ratings[loser_id], 32, True)\n",
    "        \n",
    "    elo_ratings[winner_id] = winner_rating\n",
    "    elo_ratings[loser_id] = loser_rating"
   ]
  },
  {
   "cell_type": "markdown",
   "metadata": {},
   "source": [
    "### Sort and print the ranking of teams"
   ]
  },
  {
   "cell_type": "code",
   "execution_count": 8,
   "metadata": {},
   "outputs": [
    {
     "name": "stdout",
     "output_type": "stream",
     "text": [
      "\n",
      "\n",
      "************** ELO Rating Method **************\n",
      "\n",
      "===================================\n",
      "Rank   Rating       Player   \n",
      "===================================\n",
      "   1   745.15423    Roger Federer\n",
      "   2   666.36422    Rod Laver\n",
      "   3   626.29927    Ken Rosewall\n",
      "   4   610.14331    Daniil Medvedev\n",
      "   5   604.42844    Boris Becker\n",
      "   6   599.53688    Rafael Nadal\n",
      "   7   598.36419    Tony Roche\n",
      "   8   574.32691    John Newcombe\n",
      "   9   551.53588    Cliff Richey\n",
      "  10   548.53557    Arthur Ashe\n",
      "\n",
      "Predictability: 65.66%\n"
     ]
    }
   ],
   "source": [
    "iSort = np.argsort(-elo_ratings)\n",
    "\n",
    "print('\\n\\n************** ELO Rating Method **************\\n')\n",
    "print('===================================')\n",
    "print('Rank   Rating       Player   ')\n",
    "print('===================================')\n",
    "for i in range(k):\n",
    "    print(f'{i+1:4d}   {elo_ratings[iSort[i]]:.5f}    {players[iSort[i]]}')\n",
    "\n",
    "print('')   # extra carriage return\n",
    "\n",
    "print(f'Predictability: {correct_predictions_count/games_count*100:.2f}%') "
   ]
  },
  {
   "cell_type": "markdown",
   "metadata": {},
   "source": [
    "### Serialize results"
   ]
  },
  {
   "cell_type": "code",
   "execution_count": 9,
   "metadata": {},
   "outputs": [
    {
     "name": "stdout",
     "output_type": "stream",
     "text": [
      "Serialized results saved to elo_results.json.\n"
     ]
    }
   ],
   "source": [
    "import json\n",
    "\n",
    "results = {\n",
    "    'predictability': correct_predictions_count/games_count,\n",
    "    'rankings': [],\n",
    "}\n",
    "\n",
    "for i in range(len(iSort)):\n",
    "    results['rankings'].append({\n",
    "        'ranking': i + 1,\n",
    "        'rating': elo_ratings[iSort[i]],\n",
    "        'player': players[iSort[i]]\n",
    "    })\n",
    "\n",
    "json_data = json.dumps(results, indent=4)\n",
    "\n",
    "with open('elo_results.json', 'w') as json_file:\n",
    "    json_file.write(json_data)\n",
    "\n",
    "print(f\"Serialized results saved to elo_results.json.\")"
   ]
  }
 ],
 "metadata": {
  "kernelspec": {
   "display_name": "Python 3.8",
   "language": "python",
   "name": "python3"
  },
  "language_info": {
   "codemirror_mode": {
    "name": "ipython",
    "version": 3
   },
   "file_extension": ".py",
   "mimetype": "text/x-python",
   "name": "python",
   "nbconvert_exporter": "python",
   "pygments_lexer": "ipython3",
   "version": "3.7.17"
  }
 },
 "nbformat": 4,
 "nbformat_minor": 4
}
