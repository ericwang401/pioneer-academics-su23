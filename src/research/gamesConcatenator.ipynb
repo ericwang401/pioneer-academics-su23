{
 "cells": [
  {
   "cell_type": "code",
   "execution_count": 47,
   "metadata": {},
   "outputs": [
    {
     "name": "stdout",
     "output_type": "stream",
     "text": [
      "Requirement already satisfied: pandas in /usr/local/lib/python3.7/site-packages (1.3.5)\n",
      "Requirement already satisfied: pytz>=2017.3 in /usr/local/lib/python3.7/site-packages (from pandas) (2023.3)\n",
      "Requirement already satisfied: numpy>=1.17.3 in /usr/local/lib/python3.7/site-packages (from pandas) (1.21.6)\n",
      "Requirement already satisfied: python-dateutil>=2.7.3 in /root/.local/lib/python3.7/site-packages (from pandas) (2.8.2)\n",
      "Requirement already satisfied: six>=1.5 in /root/.local/lib/python3.7/site-packages (from python-dateutil>=2.7.3->pandas) (1.16.0)\n",
      "\u001b[33mWARNING: Running pip as the 'root' user can result in broken permissions and conflicting behaviour with the system package manager. It is recommended to use a virtual environment instead: https://pip.pypa.io/warnings/venv\u001b[0m\u001b[33m\n",
      "\u001b[0m\n",
      "\u001b[1m[\u001b[0m\u001b[34;49mnotice\u001b[0m\u001b[1;39;49m]\u001b[0m\u001b[39;49m A new release of pip is available: \u001b[0m\u001b[31;49m23.0.1\u001b[0m\u001b[39;49m -> \u001b[0m\u001b[32;49m23.2.1\u001b[0m\n",
      "\u001b[1m[\u001b[0m\u001b[34;49mnotice\u001b[0m\u001b[1;39;49m]\u001b[0m\u001b[39;49m To update, run: \u001b[0m\u001b[32;49mpip install --upgrade pip\u001b[0m\n"
     ]
    }
   ],
   "source": [
    "import sys\n",
    "!{sys.executable} -m pip install pandas"
   ]
  },
  {
   "cell_type": "markdown",
   "metadata": {},
   "source": [
    "### Load all the matches"
   ]
  },
  {
   "cell_type": "code",
   "execution_count": 48,
   "metadata": {},
   "outputs": [],
   "source": [
    "import pandas as pd\n",
    "import glob\n",
    "\n",
    "# Path to the directory containing the CSV files\n",
    "csv_directory = './data/'\n",
    "\n",
    "# Get a list of all CSV files in the directory\n",
    "csv_files = glob.glob(csv_directory + 'atp_matches_*.csv')\n",
    "\n",
    "# Initialize an empty DataFrame to store the combined data\n",
    "combined_data = pd.DataFrame()\n",
    "\n",
    "# Loop through the CSV files and append them to the combined_data DataFrame\n",
    "for csv_file in csv_files:\n",
    "    # Read the CSV file into a DataFrame\n",
    "    data = pd.read_csv(csv_file)\n",
    "    \n",
    "    # Append the data to the combined_data DataFrame\n",
    "    combined_data = combined_data.append(data, ignore_index=True)\n"
   ]
  },
  {
   "cell_type": "markdown",
   "metadata": {},
   "source": [
    "### Assume 0 points for '?' in score field"
   ]
  },
  {
   "cell_type": "code",
   "execution_count": 49,
   "metadata": {},
   "outputs": [
    {
     "name": "stdout",
     "output_type": "stream",
     "text": [
      "Dropped 1173 games out of 190276 games\n"
     ]
    }
   ],
   "source": [
    "original_games_count = len(combined_data)\n",
    "\n",
    "combined_data['score'] = combined_data['score'].astype(str)\n",
    "\n",
    "combined_data = combined_data[~(combined_data['score'].isin(['', 'W/O', 'nan']) | combined_data['score'].str.contains(r'\\?'))]\n",
    "\n",
    "combined_data.reset_index(drop=True, inplace=True)\n",
    "\n",
    "print('Dropped', original_games_count - len(combined_data), 'games out of', original_games_count, 'games')"
   ]
  },
  {
   "cell_type": "markdown",
   "metadata": {},
   "source": [
    "### Reassign new IDs for players"
   ]
  },
  {
   "cell_type": "code",
   "execution_count": 50,
   "metadata": {},
   "outputs": [],
   "source": [
    "player_names = pd.concat([combined_data['winner_name'], combined_data['loser_name']]).unique()\n",
    "\n",
    "player_id_map = {player_name: idx for idx, player_name in enumerate(player_names)}\n",
    "\n",
    "combined_data['winner_id'] = combined_data['winner_name'].map(player_id_map)\n",
    "combined_data['loser_id'] = combined_data['loser_name'].map(player_id_map)"
   ]
  },
  {
   "cell_type": "code",
   "execution_count": 51,
   "metadata": {},
   "outputs": [
    {
     "name": "stdout",
     "output_type": "stream",
     "text": [
      "Combined data saved to atp_all_matches.csv\n"
     ]
    }
   ],
   "source": [
    "# Save the combined data to a new CSV file\n",
    "combined_data.to_csv(csv_directory + 'atp_all_matches.csv', index=False)\n",
    "\n",
    "print(\"Combined data saved to atp_all_matches.csv\")"
   ]
  }
 ],
 "metadata": {
  "kernelspec": {
   "display_name": "Python 3",
   "language": "python",
   "name": "python3"
  },
  "language_info": {
   "codemirror_mode": {
    "name": "ipython",
    "version": 3
   },
   "file_extension": ".py",
   "mimetype": "text/x-python",
   "name": "python",
   "nbconvert_exporter": "python",
   "pygments_lexer": "ipython3",
   "version": "3.7.17"
  },
  "orig_nbformat": 4
 },
 "nbformat": 4,
 "nbformat_minor": 2
}
