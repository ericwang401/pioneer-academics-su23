{
 "cells": [
  {
   "cell_type": "code",
   "execution_count": 1,
   "metadata": {},
   "outputs": [
    {
     "name": "stdout",
     "output_type": "stream",
     "text": [
      "Requirement already satisfied: numpy in /usr/local/lib/python3.7/site-packages (1.21.6)\n",
      "Requirement already satisfied: matplotlib in /usr/local/lib/python3.7/site-packages (3.5.3)\n",
      "Requirement already satisfied: tqdm in /usr/local/lib/python3.7/site-packages (4.66.1)\n",
      "Requirement already satisfied: scipy in /usr/local/lib/python3.7/site-packages (1.7.3)\n",
      "Requirement already satisfied: pillow>=6.2.0 in /usr/local/lib/python3.7/site-packages (from matplotlib) (9.5.0)\n",
      "Requirement already satisfied: python-dateutil>=2.7 in /root/.local/lib/python3.7/site-packages (from matplotlib) (2.8.2)\n",
      "Requirement already satisfied: pyparsing>=2.2.1 in /usr/local/lib/python3.7/site-packages (from matplotlib) (3.1.1)\n",
      "Requirement already satisfied: kiwisolver>=1.0.1 in /usr/local/lib/python3.7/site-packages (from matplotlib) (1.4.4)\n",
      "Requirement already satisfied: fonttools>=4.22.0 in /usr/local/lib/python3.7/site-packages (from matplotlib) (4.38.0)\n",
      "Requirement already satisfied: cycler>=0.10 in /usr/local/lib/python3.7/site-packages (from matplotlib) (0.11.0)\n",
      "Requirement already satisfied: packaging>=20.0 in /root/.local/lib/python3.7/site-packages (from matplotlib) (23.1)\n",
      "Requirement already satisfied: typing-extensions in /usr/local/lib/python3.7/site-packages (from kiwisolver>=1.0.1->matplotlib) (4.7.1)\n",
      "Requirement already satisfied: six>=1.5 in /root/.local/lib/python3.7/site-packages (from python-dateutil>=2.7->matplotlib) (1.16.0)\n",
      "\u001b[33mWARNING: Running pip as the 'root' user can result in broken permissions and conflicting behaviour with the system package manager. It is recommended to use a virtual environment instead: https://pip.pypa.io/warnings/venv\u001b[0m\u001b[33m\n",
      "\u001b[0m\n",
      "\u001b[1m[\u001b[0m\u001b[34;49mnotice\u001b[0m\u001b[1;39;49m]\u001b[0m\u001b[39;49m A new release of pip is available: \u001b[0m\u001b[31;49m23.0.1\u001b[0m\u001b[39;49m -> \u001b[0m\u001b[32;49m23.2.1\u001b[0m\n",
      "\u001b[1m[\u001b[0m\u001b[34;49mnotice\u001b[0m\u001b[1;39;49m]\u001b[0m\u001b[39;49m To update, run: \u001b[0m\u001b[32;49mpip install --upgrade pip\u001b[0m\n"
     ]
    }
   ],
   "source": [
    "import sys\n",
    "!{sys.executable} -m pip install numpy matplotlib tqdm scipy"
   ]
  },
  {
   "cell_type": "code",
   "execution_count": 2,
   "metadata": {},
   "outputs": [],
   "source": [
    "filename = './data/atp_all_matches.csv'\n",
    "\n",
    "k = 10"
   ]
  },
  {
   "cell_type": "markdown",
   "metadata": {},
   "source": [
    "### Load the games"
   ]
  },
  {
   "cell_type": "code",
   "execution_count": 3,
   "metadata": {},
   "outputs": [
    {
     "name": "stderr",
     "output_type": "stream",
     "text": [
      "/root/.local/lib/python3.7/site-packages/IPython/core/interactiveshell.py:3553: DtypeWarning: Columns (8,16) have mixed types.Specify dtype option on import or set low_memory=False.\n",
      "  exec(code_obj, self.user_global_ns, self.user_ns)\n"
     ]
    }
   ],
   "source": [
    "import numpy as np\n",
    "from pprint import pprint\n",
    "import pandas as pd\n",
    "\n",
    "games = pd.read_csv(filename)\n",
    "\n",
    "games_count = len(games)"
   ]
  },
  {
   "cell_type": "markdown",
   "metadata": {},
   "source": [
    "### Create a list of players"
   ]
  },
  {
   "cell_type": "code",
   "execution_count": 4,
   "metadata": {},
   "outputs": [],
   "source": [
    "players = {}\n",
    "\n",
    "for i, game in games.iterrows():\n",
    "    winner_id = game['winner_id']\n",
    "    winner_name = game['winner_name']\n",
    "    loser_id = game['loser_id']\n",
    "    loser_name = game['loser_name']\n",
    "    \n",
    "    players[winner_id] = winner_name\n",
    "    players[loser_id] = loser_name\n",
    "\n",
    "players_count = len(players)"
   ]
  },
  {
   "cell_type": "markdown",
   "metadata": {},
   "source": [
    "### Create adjacency matrix"
   ]
  },
  {
   "cell_type": "code",
   "execution_count": 5,
   "metadata": {},
   "outputs": [],
   "source": [
    "from tqdm import tqdm\n",
    "\n",
    "load_existing_computations = True\n",
    "alpha = 0.85 # teleportation parameter\n",
    "\n",
    "if load_existing_computations:\n",
    "    adjacency_matrix = np.load('pagerank_adjacency_matrix.npy')\n",
    "    row_sums = np.load('pagerank_row_sums.npy')\n",
    "    G = np.load('pagerank_G.npy')\n",
    "else:\n",
    "    adjacency_matrix = np.ones((players_count, players_count))\n",
    "    row_sums = np.sum(adjacency_matrix, 1)\n",
    "    G = np.zeros((players_count, players_count))\n",
    "\n",
    "    for i, game in tqdm(games.iterrows(), total=games_count):\n",
    "        winner_id = game['winner_id']\n",
    "        loser_id = game['loser_id']\n",
    "\n",
    "        adjacency_matrix[loser_id, winner_id] += 1\n",
    "        row_sums[loser_id] += 1\n",
    "\n",
    "        for i in range(players_count):\n",
    "            if (row_sums[i] == 0):\n",
    "                G[i,:] = np.ones((1,players_count))/players_count\n",
    "            else:\n",
    "                G[i, :] = alpha * adjacency_matrix[i,:]/row_sums[i] + (1-alpha)/players_count\n",
    "    \n",
    "    np.save('pagerank_adjacency_matrix', adjacency_matrix)\n",
    "    np.save('pagerank_row_sums', row_sums)\n",
    "    np.save('pagerank_G', G)"
   ]
  },
  {
   "cell_type": "markdown",
   "metadata": {},
   "source": [
    "### Compute PageRank"
   ]
  },
  {
   "cell_type": "code",
   "execution_count": 6,
   "metadata": {},
   "outputs": [],
   "source": [
    "iterations = 1000\n",
    "v0 = np.zeros(players_count)\n",
    "v0[np.random.randint(players_count)] = 1\n",
    "v = v0\n",
    "for i in range(iterations):\n",
    "    v = v@G"
   ]
  },
  {
   "cell_type": "markdown",
   "metadata": {},
   "source": [
    "### Display rankings"
   ]
  },
  {
   "cell_type": "code",
   "execution_count": 7,
   "metadata": {},
   "outputs": [
    {
     "name": "stdout",
     "output_type": "stream",
     "text": [
      "\n",
      "\n",
      "************** PageRank **************\n",
      "\n",
      "===========================\n",
      "Rank   Rating    Team   \n",
      "===========================\n",
      "   1   0.00015917  Jimmy Connors\n",
      "   2   0.00015880  Roger Federer\n",
      "   3   0.00015582  Rafael Nadal\n",
      "   4   0.00015581  Ivan Lendl\n",
      "   5   0.00015580  Novak Djokovic\n",
      "   6   0.00015368  Guillermo Vilas\n",
      "   7   0.00015305  Ilie Nastase\n",
      "   8   0.00015272  John McEnroe\n",
      "   9   0.00015248  Andre Agassi\n",
      "  10   0.00015142  Stefan Edberg\n",
      "\n"
     ]
    }
   ],
   "source": [
    "iSort = np.argsort(-v)\n",
    "print('\\n\\n************** PageRank **************\\n')\n",
    "print('===========================')\n",
    "print('Rank   Rating    Player   ')\n",
    "print('===========================')\n",
    "\n",
    "if k<=0:\n",
    "    players_displayed = players_count\n",
    "else:\n",
    "    players_displayed = k\n",
    "\n",
    "for i in range(players_displayed):\n",
    "    print(f'{i+1:4d}   {v[iSort[i]]:.8f}  {players[iSort[i]]}')\n",
    "\n",
    "print('')   # extra carriage return"
   ]
  },
  {
   "cell_type": "markdown",
   "metadata": {},
   "source": [
    "### Calculate the predictability of the method"
   ]
  },
  {
   "cell_type": "code",
   "execution_count": 8,
   "metadata": {},
   "outputs": [
    {
     "name": "stdout",
     "output_type": "stream",
     "text": [
      "Predictability: 67.53%\n"
     ]
    }
   ],
   "source": [
    "correct_predictions_count = 0\n",
    "\n",
    "for i, game in games.iterrows():\n",
    "    winner_id = game['winner_id']\n",
    "    loser_id = game['loser_id']\n",
    "\n",
    "    if v[winner_id] > v[loser_id]:\n",
    "        correct_predictions_count += 1\n",
    "\n",
    "print(f'Predictability: {correct_predictions_count/games_count*100:.2f}%') "
   ]
  },
  {
   "cell_type": "markdown",
   "metadata": {},
   "source": [
    "### Serialize results"
   ]
  },
  {
   "cell_type": "code",
   "execution_count": 13,
   "metadata": {},
   "outputs": [
    {
     "name": "stdout",
     "output_type": "stream",
     "text": [
      "Serialized results saved to pagerank_results.json.\n"
     ]
    }
   ],
   "source": [
    "import json\n",
    "\n",
    "results = {\n",
    "    'predictability': correct_predictions_count/games_count,\n",
    "    'rankings': [],\n",
    "}\n",
    "\n",
    "for i in range(len(iSort)):\n",
    "    results['rankings'].append({\n",
    "        'ranking': i + 1,\n",
    "        'rating': v[iSort[i]],\n",
    "        'player': players[iSort[i]]\n",
    "    })\n",
    "\n",
    "json_data = json.dumps(results, indent=4)\n",
    "\n",
    "with open('pagerank_results.json', 'w') as json_file:\n",
    "    json_file.write(json_data)\n",
    "\n",
    "print(f\"Serialized results saved to pagerank_results.json.\")"
   ]
  }
 ],
 "metadata": {
  "kernelspec": {
   "display_name": "Python 3",
   "language": "python",
   "name": "python3"
  },
  "language_info": {
   "codemirror_mode": {
    "name": "ipython",
    "version": 3
   },
   "file_extension": ".py",
   "mimetype": "text/x-python",
   "name": "python",
   "nbconvert_exporter": "python",
   "pygments_lexer": "ipython3",
   "version": "3.7.17"
  },
  "orig_nbformat": 4
 },
 "nbformat": 4,
 "nbformat_minor": 2
}
