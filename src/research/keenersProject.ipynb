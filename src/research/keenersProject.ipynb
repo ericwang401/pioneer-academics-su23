{
 "cells": [
  {
   "cell_type": "code",
   "execution_count": null,
   "metadata": {},
   "outputs": [],
   "source": [
    "import sys\n",
    "!{sys.executable} -m pip install numpy pandas"
   ]
  },
  {
   "cell_type": "code",
   "execution_count": null,
   "metadata": {},
   "outputs": [],
   "source": [
    "filename = './data/atp_all_matches.csv'"
   ]
  },
  {
   "cell_type": "code",
   "execution_count": null,
   "metadata": {},
   "outputs": [],
   "source": [
    "import numpy as np\n",
    "from pprint import pprint\n",
    "import pandas as pd\n",
    "\n",
    "games = pd.read_csv(filename)\n",
    "\n",
    "games_count = len(games)"
   ]
  },
  {
   "cell_type": "code",
   "execution_count": null,
   "metadata": {},
   "outputs": [],
   "source": [
    "players = {}\n",
    "\n",
    "for i, game in games.iterrows():\n",
    "    winner_id = game['winner_id']\n",
    "    winner_name = game['winner_name']\n",
    "    loser_id = game['loser_id']\n",
    "    loser_name = game['loser_name']\n",
    "    \n",
    "    players[winner_id] = winner_name\n",
    "    players[loser_id] = loser_name\n",
    "\n",
    "players_count = len(players)"
   ]
  },
  {
   "cell_type": "code",
   "execution_count": null,
   "metadata": {},
   "outputs": [],
   "source": [
    "for i, game in games.iterrows():\n",
    "    "
   ]
  }
 ],
 "metadata": {
  "language_info": {
   "name": "python"
  },
  "orig_nbformat": 4
 },
 "nbformat": 4,
 "nbformat_minor": 2
}
