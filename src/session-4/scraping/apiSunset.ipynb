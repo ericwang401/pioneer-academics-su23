{
 "cells": [
  {
   "cell_type": "markdown",
   "metadata": {},
   "source": [
    "## Sunset API\n",
    "Reading the http://sunrise-sunset.org/api API"
   ]
  },
  {
   "cell_type": "code",
   "execution_count": 7,
   "metadata": {},
   "outputs": [
    {
     "name": "stdout",
     "output_type": "stream",
     "text": [
      "date: 2021-04-16, sunrise = 10:48:07 AM UTC, sunset = 11:57:49 PM UTC\n",
      "date: 2021-04-17, sunrise = 10:46:50 AM UTC, sunset = 11:58:38 PM UTC\n",
      "date: 2021-04-18, sunrise = 10:45:35 AM UTC, sunset = 11:59:28 PM UTC\n",
      "date: 2021-04-19, sunrise = 10:44:20 AM UTC, sunset = 12:00:18 AM UTC\n",
      "date: 2021-04-20, sunrise = 10:43:05 AM UTC, sunset = 12:01:07 AM UTC\n",
      "date: 2021-04-21, sunrise = 10:41:52 AM UTC, sunset = 12:01:57 AM UTC\n",
      "date: 2021-04-22, sunrise = 10:40:39 AM UTC, sunset = 12:02:47 AM UTC\n",
      "date: 2021-04-23, sunrise = 10:39:28 AM UTC, sunset = 12:03:37 AM UTC\n",
      "date: 2021-04-24, sunrise = 10:38:17 AM UTC, sunset = 12:04:27 AM UTC\n",
      "date: 2021-04-25, sunrise = 10:37:07 AM UTC, sunset = 12:05:17 AM UTC\n"
     ]
    }
   ],
   "source": [
    "#import the library used to query a website\n",
    "import urllib.request \n",
    "#import the library to parse json data\n",
    "import json\n",
    "import datetime\n",
    "\n",
    "for i in range(0,10):\n",
    "    dateString = datetime.date.today() + datetime.timedelta(days=i)\n",
    "    url = \"http://api.sunrise-sunset.org/json?lat=35.499302&lng=-80.848686&date=\" + str(dateString)\n",
    "    data = json.load(urllib.request.urlopen(url))\n",
    "\n",
    "    sunrise = data['results']['sunrise']\n",
    "    sunset = data['results']['sunset']\n",
    "\n",
    "    print(\"date: %s, sunrise = %s UTC, sunset = %s UTC\" % (dateString, sunrise, sunset))\n",
    "    \n",
    "    "
   ]
  },
  {
   "cell_type": "code",
   "execution_count": null,
   "metadata": {},
   "outputs": [],
   "source": []
  }
 ],
 "metadata": {
  "kernelspec": {
   "display_name": "Python 3",
   "language": "python",
   "name": "python3"
  },
  "language_info": {
   "codemirror_mode": {
    "name": "ipython",
    "version": 3
   },
   "file_extension": ".py",
   "mimetype": "text/x-python",
   "name": "python",
   "nbconvert_exporter": "python",
   "pygments_lexer": "ipython3",
   "version": "3.7.6"
  }
 },
 "nbformat": 4,
 "nbformat_minor": 4
}
